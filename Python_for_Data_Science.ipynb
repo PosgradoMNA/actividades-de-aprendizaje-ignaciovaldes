{
  "nbformat": 4,
  "nbformat_minor": 0,
  "metadata": {
    "colab": {
      "provenance": [],
      "toc_visible": true,
      "authorship_tag": "ABX9TyPzcTpGh6fEkDxuws/HbrGV",
      "include_colab_link": true
    },
    "kernelspec": {
      "name": "python3",
      "display_name": "Python 3"
    },
    "language_info": {
      "name": "python"
    }
  },
  "cells": [
    {
      "cell_type": "markdown",
      "metadata": {
        "id": "view-in-github",
        "colab_type": "text"
      },
      "source": [
        "<a href=\"https://colab.research.google.com/github/PosgradoMNA/actividades-de-aprendizaje-ignaciovaldes/blob/main/Python_for_Data_Science.ipynb\" target=\"_parent\"><img src=\"https://colab.research.google.com/assets/colab-badge.svg\" alt=\"Open In Colab\"/></a>"
      ]
    },
    {
      "cell_type": "markdown",
      "source": [
        "# Python for Data Science\n",
        "\n",
        "## Learning Objectives\n",
        "- What is Python and why it is useful\n",
        "- The application of Python \n",
        "- How to define variables\n",
        "- Sets and conditional statements in Python\n",
        "- The purpose of having functions in Python\n",
        "- How to operate on files to read and write data in Python\n",
        "- How to use pandas, a must-have package for anyone attempting data analysis in Python"
      ],
      "metadata": {
        "id": "QoVMznpWwV9p"
      }
    },
    {
      "cell_type": "markdown",
      "source": [
        "## Module 1 – Python Basics\n",
        "\n",
        "### Learning Objectives\n",
        "- Understand the available data types in Python\n",
        "- Be familiar with Python expressions and variables\n",
        "- Be able to perform basic operations on strings\n",
        "\n",
        "### Notes\n",
        "- Object-oriented\n",
        "- Python 3"
      ],
      "metadata": {
        "id": "7S8bvTzAx5Xm"
      }
    },
    {
      "cell_type": "markdown",
      "source": [
        "### **Types**\n",
        "- Integers → 11 (int)\n",
        "  - type(11) = int\n",
        "  - -4, -3, -2, -1, 0, 1, 2, 3, 4\n",
        "- Real numbers → 21.213 (float)\n",
        "  - type(21.213) = float\n",
        "  - 0.5, 0.6\n",
        "– Words → \"Hello Python 101\" (str)\n",
        "  - type(\"Hello Python 101\") = str\n",
        "- Boolean → **T**rue or **F**alse\n",
        "  - bool(1) = True\n",
        "  - bool(0) = False"
      ],
      "metadata": {
        "id": "ATlRVK5sHCjA"
      }
    },
    {
      "cell_type": "code",
      "execution_count": null,
      "metadata": {
        "colab": {
          "base_uri": "https://localhost:8080/"
        },
        "id": "JhzuF2WavH98",
        "outputId": "9bbcad85-0312-4e70-b30b-ecd0f96a888d"
      },
      "outputs": [
        {
          "output_type": "stream",
          "name": "stdout",
          "text": [
            "Hello Python 101\n",
            "Hello\n",
            "World!\n"
          ]
        }
      ],
      "source": [
        "# The value in the parentheses is called the argument\n",
        "print(\"Hello Python 101\")\n",
        "\n",
        "# Print statement\n",
        "print(\"Hello\\nWorld!\")\n",
        "\n",
        "# print('Hello World!')"
      ]
    },
    {
      "cell_type": "code",
      "source": [
        "# Type casting to change the type of the expression\n",
        "\n",
        "float(2)\n",
        "\n",
        "int(1.1)\n",
        "int('1')\n",
        "\n",
        "str(1)\n",
        "str(4.5)\n",
        "\n",
        "type(True)\n",
        "type(False)\n",
        "\n",
        "int(True)\n",
        "int(False)\n",
        "\n",
        "bool(1)\n",
        "bool(0)"
      ],
      "metadata": {
        "colab": {
          "base_uri": "https://localhost:8080/"
        },
        "id": "QTrXRrklH-qd",
        "outputId": "f96119c6-57ee-4154-9837-2725fe965dd4"
      },
      "execution_count": null,
      "outputs": [
        {
          "output_type": "execute_result",
          "data": {
            "text/plain": [
              "False"
            ]
          },
          "metadata": {},
          "execution_count": 48
        }
      ]
    },
    {
      "cell_type": "code",
      "source": [
        "# A **Syntactic** error is when Python does not understand your code\n",
        "# A **Semantic** error is when your logic is wrong\n",
        "\n",
        "int('A')"
      ],
      "metadata": {
        "colab": {
          "base_uri": "https://localhost:8080/",
          "height": 198
        },
        "id": "1Au1NeC-IYpG",
        "outputId": "178246c3-e08a-4d9d-ca09-dd9ac2435a25"
      },
      "execution_count": null,
      "outputs": [
        {
          "output_type": "error",
          "ename": "ValueError",
          "evalue": "ignored",
          "traceback": [
            "\u001b[0;31m---------------------------------------------------------------------------\u001b[0m",
            "\u001b[0;31mValueError\u001b[0m                                Traceback (most recent call last)",
            "\u001b[0;32m<ipython-input-47-26c35316d4cd>\u001b[0m in \u001b[0;36m<module>\u001b[0;34m\u001b[0m\n\u001b[1;32m      2\u001b[0m \u001b[0;31m# A **Semantic** error is when your logic is wrong\u001b[0m\u001b[0;34m\u001b[0m\u001b[0;34m\u001b[0m\u001b[0;34m\u001b[0m\u001b[0m\n\u001b[1;32m      3\u001b[0m \u001b[0;34m\u001b[0m\u001b[0m\n\u001b[0;32m----> 4\u001b[0;31m \u001b[0mint\u001b[0m\u001b[0;34m(\u001b[0m\u001b[0;34m'A'\u001b[0m\u001b[0;34m)\u001b[0m\u001b[0;34m\u001b[0m\u001b[0;34m\u001b[0m\u001b[0m\n\u001b[0m",
            "\u001b[0;31mValueError\u001b[0m: invalid literal for int() with base 10: 'A'"
          ]
        }
      ]
    },
    {
      "cell_type": "markdown",
      "source": [
        "### **Expressions**\n",
        "- Expressions describe a type of operation that computers perform\n",
        "- Mathematical Operations\n",
        "- Numbers → Operands\n",
        "- Maths symbols → Operators\n",
        "\n",
        "### **Variables**\n",
        "- We can use variables to store values"
      ],
      "metadata": {
        "id": "ER3uH4d4HLFO"
      }
    },
    {
      "cell_type": "code",
      "source": [
        "50 - 60\n",
        "5 * 5\n",
        "25 / 5\n",
        "25 / 6\n",
        "25 // 6\n",
        "\n",
        "# Python performs multiplication, then addition to obtain the final result\n",
        "2 * 60 + 30\n",
        "\n",
        "# Python performs multiplication, then addition to obtain the final result\n",
        "30 + 2 * 60\n",
        "\n",
        "# The expressions in the parentheses are performed first\n",
        "(30 + 2) * 60\n",
        "\n",
        "my_variable = 1\n",
        "\n",
        "x = 160\n",
        "y = x / 60\n",
        "\n",
        "type(x)\n",
        "\n",
        "total_min = 43 + 42 + 57\n",
        "total_hr = total_min / 60\n",
        "print(total_hr)"
      ],
      "metadata": {
        "colab": {
          "base_uri": "https://localhost:8080/"
        },
        "id": "erTG3rwDIQvt",
        "outputId": "1b069072-b515-4953-d37e-3b43bc37c620"
      },
      "execution_count": null,
      "outputs": [
        {
          "output_type": "stream",
          "name": "stdout",
          "text": [
            "2.3666666666666667\n"
          ]
        }
      ]
    },
    {
      "cell_type": "markdown",
      "source": [
        "### **Strings**\n",
        "- Is a sequence of characters\n",
        "- A string is contained within two quotes or single quotes\n",
        "- Each element in the sequence can be accessed\n",
        "- Array\n",
        "- Index\n",
        "- Inmutable\n",
        "- String Operations:\n",
        "  - Slicing\n",
        "  - Stride\n",
        "- String Methods:\n",
        "  - Upper\n",
        "  - Replace\n",
        "  - Find"
      ],
      "metadata": {
        "id": "EaNk_p6BHT75"
      }
    },
    {
      "cell_type": "code",
      "source": [
        "Name = \"Michael Jackson\"\n",
        "Name[0]\n",
        "Name[-15]\n",
        "\n",
        "# Slicing\n",
        "Name[0:4]\n",
        "\n",
        "# Stride\n",
        "Name[::2]\n",
        "Name[0:5:2]\n",
        "len(Name)\n",
        "\n",
        "# Concatenate or combine strings\n",
        "Statement = Name + \" is the best!\"\n",
        "print(Statement)\n",
        "\n",
        "# Tuples\n",
        "thistuple = (\"apple\", \"banana\", \"cherry\")\n",
        "3 * Name\n",
        "3 * \"Michael Jackson \"\n",
        "\n",
        "# Scape sequences\n",
        "print(\"Michael Jackson \\n is the best!\")\n",
        "\n",
        "print(\"Michael Jackson \\t is the best!\")\n",
        "\n",
        "print(\"Michael Jackson \\\\ is the best!\")\n",
        "print(r\"Michael Jackson \\ is the best!\")\n",
        "\n",
        "# Upper\n",
        "A = \"Thriller is the sixth studio album\"\n",
        "B = A.upper()\n",
        "print(B)\n",
        "\n",
        "# Replace\n",
        "C = Statement.replace(\"Michael\", \"Janet\")\n",
        "print(C)\n",
        "\n",
        "# Find\n",
        "Name.find(\"el\")"
      ],
      "metadata": {
        "id": "0Wh7KIgq5EdI",
        "colab": {
          "base_uri": "https://localhost:8080/"
        },
        "outputId": "92846cfd-a948-434d-fbf7-362e4abc4252"
      },
      "execution_count": null,
      "outputs": [
        {
          "output_type": "stream",
          "name": "stdout",
          "text": [
            "Michael Jackson is the best!\n",
            "Michael Jackson \n",
            " is the best!\n",
            "Michael Jackson \t is the best!\n",
            "Michael Jackson \\ is the best!\n",
            "Michael Jackson \\ is the best!\n",
            "THRILLER IS THE SIXTH STUDIO ALBUM\n",
            "Janet Jackson is the best!\n"
          ]
        },
        {
          "output_type": "execute_result",
          "data": {
            "text/plain": [
              "5"
            ]
          },
          "metadata": {},
          "execution_count": 29
        }
      ]
    },
    {
      "cell_type": "code",
      "source": [
        "3 + 2 * 2\n",
        "\n",
        "name = 'Lizz'\n",
        "print(name[0:2])\n",
        "\n",
        "var = '01234567'\n",
        "print(var[::2])\n",
        "\n",
        "'1'+'2'"
      ],
      "metadata": {
        "colab": {
          "base_uri": "https://localhost:8080/",
          "height": 71
        },
        "id": "i-7im3eMFVAQ",
        "outputId": "12ce697b-bee3-41a3-c7ce-f94d53b34be8"
      },
      "execution_count": null,
      "outputs": [
        {
          "output_type": "stream",
          "name": "stdout",
          "text": [
            "Li\n",
            "0246\n"
          ]
        },
        {
          "output_type": "execute_result",
          "data": {
            "text/plain": [
              "'12'"
            ],
            "application/vnd.google.colaboratory.intrinsic+json": {
              "type": "string"
            }
          },
          "metadata": {},
          "execution_count": 33
        }
      ]
    },
    {
      "cell_type": "markdown",
      "source": [
        "## Module 2 – Python Data Structures\n",
        "\n",
        "### Learning Objectives\n",
        "- Lists and Tuples \n",
        "- Sets\n",
        "- Dictionaries \n",
        "\n",
        "### Notes"
      ],
      "metadata": {
        "id": "sOFBmpDOYuGQ"
      }
    },
    {
      "cell_type": "markdown",
      "source": [
        "### **Tuples**\n",
        "- Ordered sequence\n",
        "- Inmutable"
      ],
      "metadata": {
        "id": "Ah1g2-QpZrPD"
      }
    },
    {
      "cell_type": "code",
      "source": [
        "Ratings = (10, 9, 8, 7, 6, 5, 4, 3, 2, 1)\n",
        "print(Ratings)\n",
        "\n",
        "tuple1 = (\"disco\", 10, 1.2)\n",
        "print(tuple1)\n",
        "type(tuple1)\n",
        "\n",
        "tuple1[0]\n",
        "tuple1[-3]\n",
        "\n",
        "tuple2 = tuple1 + (\"hard rock\", 10)\n",
        "print(tuple2)\n",
        "\n",
        "tuple2[0:3]\n",
        "len(tuple2)\n",
        "\n",
        "RatingsSorted = sorted(Ratings)\n",
        "print(RatingsSorted)\n",
        "\n",
        "# Nesting\n",
        "NT = (1, 2, (\"pop\", \"rock\"), (3, 4), (\"disco\", (1, 2)))\n",
        "NT[2]\n",
        "NT[2][1]"
      ],
      "metadata": {
        "colab": {
          "base_uri": "https://localhost:8080/",
          "height": 105
        },
        "id": "Jg1LixsPaWSD",
        "outputId": "1b0c4a7a-2a32-44de-db97-dde848333d5c"
      },
      "execution_count": null,
      "outputs": [
        {
          "output_type": "stream",
          "name": "stdout",
          "text": [
            "(10, 9, 8, 7, 6, 5, 4, 3, 2, 1)\n",
            "('disco', 10, 1.2)\n",
            "('disco', 10, 1.2, 'hard rock', 10)\n",
            "[1, 2, 3, 4, 5, 6, 7, 8, 9, 10]\n"
          ]
        },
        {
          "output_type": "execute_result",
          "data": {
            "text/plain": [
              "'rock'"
            ],
            "application/vnd.google.colaboratory.intrinsic+json": {
              "type": "string"
            }
          },
          "metadata": {},
          "execution_count": 67
        }
      ]
    },
    {
      "cell_type": "markdown",
      "source": [
        "### **List**\n",
        "- Ordered sequence\n",
        "- Mutable\n",
        "- A = B (aliasing)"
      ],
      "metadata": {
        "id": "MZK7lEbtd6cx"
      }
    },
    {
      "cell_type": "code",
      "source": [
        "L = [\"Michael Jackson\", 10.1, 1982]\n",
        "\n",
        "# Methods\n",
        "L.extend([\"pop\", 10])\n",
        "print(L)\n",
        "\n",
        "L.append([\"pop\", 10])\n",
        "print(L)\n",
        "\n",
        "A = [\"disco\", 10, 1.2]\n",
        "A[0] = \"hard rock\"\n",
        "print(A)\n",
        "\n",
        "# Command\n",
        "del(A[0])\n",
        "print(A)\n",
        "\n",
        "\"hard rock\".split()\n",
        "\"A, B, C, D\".split(\",\")\n",
        "\n",
        "# Aliasing\n",
        "B = A\n",
        "\n",
        "# Clone\n",
        "B = A[:]\n",
        "print(B)\n",
        "\n",
        "help(A)"
      ],
      "metadata": {
        "colab": {
          "base_uri": "https://localhost:8080/"
        },
        "id": "m12E7F8EeXmp",
        "outputId": "fa6359bb-86d5-4230-cd2f-16c30c642733"
      },
      "execution_count": null,
      "outputs": [
        {
          "output_type": "stream",
          "name": "stdout",
          "text": [
            "['Michael Jackson', 10.1, 1982, 'pop', 10]\n",
            "['Michael Jackson', 10.1, 1982, 'pop', 10, ['pop', 10]]\n",
            "['hard rock', 10, 1.2]\n",
            "[10, 1.2]\n",
            "[10, 1.2]\n"
          ]
        },
        {
          "output_type": "execute_result",
          "data": {
            "text/plain": [
              "['b', 'c']"
            ]
          },
          "metadata": {},
          "execution_count": 85
        }
      ]
    }
  ]
}